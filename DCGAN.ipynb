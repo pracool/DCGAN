{
  "nbformat": 4,
  "nbformat_minor": 0,
  "metadata": {
    "anaconda-cloud": {},
    "kernelspec": {
      "display_name": "Python 3",
      "language": "python",
      "name": "python3"
    },
    "language_info": {
      "codemirror_mode": {
        "name": "ipython",
        "version": 3
      },
      "file_extension": ".py",
      "mimetype": "text/x-python",
      "name": "python",
      "nbconvert_exporter": "python",
      "pygments_lexer": "ipython3",
      "version": "3.5.3"
    },
    "colab": {
      "name": "GAN-keras-mnist-DCGAN.ipynb",
      "provenance": []
    },
    "accelerator": "GPU",
    "widgets": {
      "application/vnd.jupyter.widget-state+json": {
        "1df5f1af2d7e4c938febaacb42c9f332": {
          "model_module": "@jupyter-widgets/controls",
          "model_name": "HBoxModel",
          "state": {
            "_view_name": "HBoxView",
            "_dom_classes": [],
            "_model_name": "HBoxModel",
            "_view_module": "@jupyter-widgets/controls",
            "_model_module_version": "1.5.0",
            "_view_count": null,
            "_view_module_version": "1.5.0",
            "box_style": "",
            "layout": "IPY_MODEL_2412edff03d443619f0da089f5c49c80",
            "_model_module": "@jupyter-widgets/controls",
            "children": [
              "IPY_MODEL_eaaee9f16e3445d8b52ce2bf305b617b",
              "IPY_MODEL_f15fa7f1164f4e79aab27e96a1b62f4b"
            ]
          }
        },
        "2412edff03d443619f0da089f5c49c80": {
          "model_module": "@jupyter-widgets/base",
          "model_name": "LayoutModel",
          "state": {
            "_view_name": "LayoutView",
            "grid_template_rows": null,
            "right": null,
            "justify_content": null,
            "_view_module": "@jupyter-widgets/base",
            "overflow": null,
            "_model_module_version": "1.2.0",
            "_view_count": null,
            "flex_flow": null,
            "width": null,
            "min_width": null,
            "border": null,
            "align_items": null,
            "bottom": null,
            "_model_module": "@jupyter-widgets/base",
            "top": null,
            "grid_column": null,
            "overflow_y": null,
            "overflow_x": null,
            "grid_auto_flow": null,
            "grid_area": null,
            "grid_template_columns": null,
            "flex": null,
            "_model_name": "LayoutModel",
            "justify_items": null,
            "grid_row": null,
            "max_height": null,
            "align_content": null,
            "visibility": null,
            "align_self": null,
            "height": null,
            "min_height": null,
            "padding": null,
            "grid_auto_rows": null,
            "grid_gap": null,
            "max_width": null,
            "order": null,
            "_view_module_version": "1.2.0",
            "grid_template_areas": null,
            "object_position": null,
            "object_fit": null,
            "grid_auto_columns": null,
            "margin": null,
            "display": null,
            "left": null
          }
        },
        "eaaee9f16e3445d8b52ce2bf305b617b": {
          "model_module": "@jupyter-widgets/controls",
          "model_name": "FloatProgressModel",
          "state": {
            "_view_name": "ProgressView",
            "style": "IPY_MODEL_4b0cf78d871b419ea1b13b09367bcb1c",
            "_dom_classes": [],
            "description": "100%",
            "_model_name": "FloatProgressModel",
            "bar_style": "success",
            "max": 200,
            "_view_module": "@jupyter-widgets/controls",
            "_model_module_version": "1.5.0",
            "value": 200,
            "_view_count": null,
            "_view_module_version": "1.5.0",
            "orientation": "horizontal",
            "min": 0,
            "description_tooltip": null,
            "_model_module": "@jupyter-widgets/controls",
            "layout": "IPY_MODEL_574bd971cf0d495bb268c8aa63dbcccb"
          }
        },
        "f15fa7f1164f4e79aab27e96a1b62f4b": {
          "model_module": "@jupyter-widgets/controls",
          "model_name": "HTMLModel",
          "state": {
            "_view_name": "HTMLView",
            "style": "IPY_MODEL_b40fc0da6a194a31ace058c49edb8e48",
            "_dom_classes": [],
            "description": "",
            "_model_name": "HTMLModel",
            "placeholder": "​",
            "_view_module": "@jupyter-widgets/controls",
            "_model_module_version": "1.5.0",
            "value": " 200/200 [09:11&lt;00:00,  2.76s/it]",
            "_view_count": null,
            "_view_module_version": "1.5.0",
            "description_tooltip": null,
            "_model_module": "@jupyter-widgets/controls",
            "layout": "IPY_MODEL_60f8e285cb284d47bdc7b9096bcd4095"
          }
        },
        "4b0cf78d871b419ea1b13b09367bcb1c": {
          "model_module": "@jupyter-widgets/controls",
          "model_name": "ProgressStyleModel",
          "state": {
            "_view_name": "StyleView",
            "_model_name": "ProgressStyleModel",
            "description_width": "initial",
            "_view_module": "@jupyter-widgets/base",
            "_model_module_version": "1.5.0",
            "_view_count": null,
            "_view_module_version": "1.2.0",
            "bar_color": null,
            "_model_module": "@jupyter-widgets/controls"
          }
        },
        "574bd971cf0d495bb268c8aa63dbcccb": {
          "model_module": "@jupyter-widgets/base",
          "model_name": "LayoutModel",
          "state": {
            "_view_name": "LayoutView",
            "grid_template_rows": null,
            "right": null,
            "justify_content": null,
            "_view_module": "@jupyter-widgets/base",
            "overflow": null,
            "_model_module_version": "1.2.0",
            "_view_count": null,
            "flex_flow": null,
            "width": null,
            "min_width": null,
            "border": null,
            "align_items": null,
            "bottom": null,
            "_model_module": "@jupyter-widgets/base",
            "top": null,
            "grid_column": null,
            "overflow_y": null,
            "overflow_x": null,
            "grid_auto_flow": null,
            "grid_area": null,
            "grid_template_columns": null,
            "flex": null,
            "_model_name": "LayoutModel",
            "justify_items": null,
            "grid_row": null,
            "max_height": null,
            "align_content": null,
            "visibility": null,
            "align_self": null,
            "height": null,
            "min_height": null,
            "padding": null,
            "grid_auto_rows": null,
            "grid_gap": null,
            "max_width": null,
            "order": null,
            "_view_module_version": "1.2.0",
            "grid_template_areas": null,
            "object_position": null,
            "object_fit": null,
            "grid_auto_columns": null,
            "margin": null,
            "display": null,
            "left": null
          }
        },
        "b40fc0da6a194a31ace058c49edb8e48": {
          "model_module": "@jupyter-widgets/controls",
          "model_name": "DescriptionStyleModel",
          "state": {
            "_view_name": "StyleView",
            "_model_name": "DescriptionStyleModel",
            "description_width": "",
            "_view_module": "@jupyter-widgets/base",
            "_model_module_version": "1.5.0",
            "_view_count": null,
            "_view_module_version": "1.2.0",
            "_model_module": "@jupyter-widgets/controls"
          }
        },
        "60f8e285cb284d47bdc7b9096bcd4095": {
          "model_module": "@jupyter-widgets/base",
          "model_name": "LayoutModel",
          "state": {
            "_view_name": "LayoutView",
            "grid_template_rows": null,
            "right": null,
            "justify_content": null,
            "_view_module": "@jupyter-widgets/base",
            "overflow": null,
            "_model_module_version": "1.2.0",
            "_view_count": null,
            "flex_flow": null,
            "width": null,
            "min_width": null,
            "border": null,
            "align_items": null,
            "bottom": null,
            "_model_module": "@jupyter-widgets/base",
            "top": null,
            "grid_column": null,
            "overflow_y": null,
            "overflow_x": null,
            "grid_auto_flow": null,
            "grid_area": null,
            "grid_template_columns": null,
            "flex": null,
            "_model_name": "LayoutModel",
            "justify_items": null,
            "grid_row": null,
            "max_height": null,
            "align_content": null,
            "visibility": null,
            "align_self": null,
            "height": null,
            "min_height": null,
            "padding": null,
            "grid_auto_rows": null,
            "grid_gap": null,
            "max_width": null,
            "order": null,
            "_view_module_version": "1.2.0",
            "grid_template_areas": null,
            "object_position": null,
            "object_fit": null,
            "grid_auto_columns": null,
            "margin": null,
            "display": null,
            "left": null
          }
        }
      }
    }
  },
  "cells": [
    {
      "cell_type": "code",
      "metadata": {
        "deletable": true,
        "editable": true,
        "id": "GkJ1XC6aONsH",
        "colab_type": "code",
        "colab": {
          "base_uri": "https://localhost:8080/",
          "height": 34
        },
        "outputId": "81f47928-58d6-4b3d-860f-b25829dec96a"
      },
      "source": [
        "#Importing required libraries.\n",
        "\n",
        "from keras.datasets import mnist\n",
        "from keras.utils import np_utils\n",
        "from keras.models import Sequential, Model\n",
        "from keras.layers import Input, Dense, Activation, Flatten, Reshape\n",
        "from keras.layers.convolutional import Conv2D, Conv2DTranspose, UpSampling2D, Convolution2D\n",
        "from keras.layers.normalization import BatchNormalization\n",
        "from keras.layers.advanced_activations import LeakyReLU\n",
        "from keras.optimizers import Adam\n",
        "import numpy as np\n",
        "import matplotlib.pyplot as plt\n",
        "import random\n",
        "from tqdm import tqdm_notebook\n",
        "\n"
      ],
      "execution_count": 9,
      "outputs": [
        {
          "output_type": "stream",
          "text": [
            "(60000, 28, 28)\n"
          ],
          "name": "stdout"
        }
      ]
    },
    {
      "cell_type": "code",
      "metadata": {
        "id": "BCefjGgXUNDZ",
        "colab_type": "code",
        "colab": {}
      },
      "source": [
        "# Dataset of 60,000 28x28 grayscale images of the 10 digits, along with a test set of 10,000 images.\n",
        "(X_train, Y_train), (X_test, Y_test) = mnist.load_data()\n",
        "print(X_train.shape)"
      ],
      "execution_count": null,
      "outputs": []
    },
    {
      "cell_type": "code",
      "metadata": {
        "deletable": true,
        "editable": true,
        "id": "7P2ngsivONsn",
        "colab_type": "code",
        "colab": {}
      },
      "source": [
        "# Preprocessing : This step is crucial for this type of GAN , because here the images fed to discriminator must have a size with channels included.\n",
        "#Therefore we reshape the b&w images with 1 channel to (28,28,1).\n",
        "\n",
        "X_train = X_train.reshape(60000, 28, 28, 1)\n",
        "X_test = X_test.reshape(10000, 28, 28, 1)\n",
        "X_train = X_train.astype('float32')/255\n",
        "X_test = X_test.astype('float32')/255"
      ],
      "execution_count": 10,
      "outputs": []
    },
    {
      "cell_type": "code",
      "metadata": {
        "id": "GS-JOt_hQCv4",
        "colab_type": "code",
        "colab": {}
      },
      "source": [
        "#Using images of 0 only so to make datset smaller and training time faster.\n",
        "\n",
        "X_train= X_train[Y_train==0]"
      ],
      "execution_count": 17,
      "outputs": []
    },
    {
      "cell_type": "code",
      "metadata": {
        "deletable": true,
        "editable": true,
        "id": "dt6_vYsxONs9",
        "colab_type": "code",
        "colab": {}
      },
      "source": [
        "# Set the dimensions of the noise\n",
        "z_dim = 100"
      ],
      "execution_count": 11,
      "outputs": []
    },
    {
      "cell_type": "code",
      "metadata": {
        "id": "9Q9N4PCsONtI",
        "colab_type": "code",
        "colab": {}
      },
      "source": [
        "\n",
        "\n",
        "nch = 200\n"
      ],
      "execution_count": 34,
      "outputs": []
    },
    {
      "cell_type": "code",
      "metadata": {
        "deletable": true,
        "editable": true,
        "id": "gKdCSnlTONtV",
        "colab_type": "code",
        "colab": {
          "base_uri": "https://localhost:8080/",
          "height": 765
        },
        "outputId": "74279120-65bd-4cb0-a3d1-012ce549564c"
      },
      "source": [
        "# Here we define the architecture of GAN which consists of both \"generator\" and \"discriminator\". \n",
        "#We define architecture of Generator which is fully-convolutional network. It accepts noise as input and generates am image out of it.\n",
        "#Generator learns when gradients are backpropagated through the network just after discriminator clasifies any image real or fake.\n",
        "#A special type of convolutional layer is being used here which increases the dimension of input image/array by using transpose convolution notion.\n",
        "#Because network discriminates between real and generated image , therefore this uses \"binary_crossentropy\" as loss.\n",
        "#First encoding is fed to generator which generates an image from it and then subsequently the generated image is fed into discriminator for it to classify\n",
        "# image as real or fake. \n",
        "#Thus in the whole architecture , they both fight against each other. And thus make each other learn more everytime.\n",
        "adam = Adam(lr=0.0002, beta_1=0.5)\n",
        "\n",
        "g = Sequential()\n",
        "g.add(Dense(7*7*112, input_dim=z_dim))\n",
        "g.add(Reshape((7, 7, 112)))\n",
        "g.add(BatchNormalization())\n",
        "g.add(Activation(LeakyReLU(alpha=0.2)))\n",
        "g.add(Conv2DTranspose(56, 5, strides=2, padding='same'))\n",
        "g.add(BatchNormalization())\n",
        "g.add(Activation(LeakyReLU(alpha=0.2)))\n",
        "g.add(Conv2DTranspose(1, 5, strides=2, padding='same', activation='sigmoid'))\n",
        "g.compile(loss='binary_crossentropy', optimizer=adam, metrics=['accuracy'])\n",
        "g.summary()\n",
        "\n",
        "d = Sequential()\n",
        "d.add(Conv2D(56, 5, strides=2, padding='same', input_shape=(28, 28, 1), activation=LeakyReLU(alpha=0.2)))\n",
        "d.add(Conv2D(112, 5, strides=2, padding='same'))\n",
        "g.add(BatchNormalization())\n",
        "g.add(Activation(LeakyReLU(alpha=0.2)))\n",
        "d.add(Conv2D(224, 5, strides=2, padding='same'))\n",
        "g.add(Activation(LeakyReLU(alpha=0.2)))\n",
        "d.add(Flatten())\n",
        "d.add(Dense(112, activation=LeakyReLU(alpha=0.2)))\n",
        "d.add(Dense(1, activation='sigmoid'))\n",
        "d.compile(loss='binary_crossentropy', optimizer=adam, metrics=['accuracy'])\n",
        "d.summary()\n",
        "\n"
      ],
      "execution_count": 32,
      "outputs": [
        {
          "output_type": "stream",
          "text": [
            "Model: \"sequential_2\"\n",
            "_________________________________________________________________\n",
            "Layer (type)                 Output Shape              Param #   \n",
            "=================================================================\n",
            "dense_5 (Dense)              (None, 5488)              554288    \n",
            "_________________________________________________________________\n",
            "reshape_3 (Reshape)          (None, 7, 7, 112)         0         \n",
            "_________________________________________________________________\n",
            "batch_normalization_7 (Batch (None, 7, 7, 112)         448       \n",
            "_________________________________________________________________\n",
            "activation_9 (Activation)    (None, 7, 7, 112)         0         \n",
            "_________________________________________________________________\n",
            "conv2d_transpose_2 (Conv2DTr (None, 14, 14, 56)        156856    \n",
            "_________________________________________________________________\n",
            "batch_normalization_8 (Batch (None, 14, 14, 56)        224       \n",
            "_________________________________________________________________\n",
            "activation_10 (Activation)   (None, 14, 14, 56)        0         \n",
            "_________________________________________________________________\n",
            "conv2d_transpose_3 (Conv2DTr (None, 28, 28, 1)         1401      \n",
            "=================================================================\n",
            "Total params: 713,217\n",
            "Trainable params: 712,881\n",
            "Non-trainable params: 336\n",
            "_________________________________________________________________\n",
            "Model: \"sequential_3\"\n",
            "_________________________________________________________________\n",
            "Layer (type)                 Output Shape              Param #   \n",
            "=================================================================\n",
            "conv2d_6 (Conv2D)            (None, 14, 14, 56)        1456      \n",
            "_________________________________________________________________\n",
            "conv2d_7 (Conv2D)            (None, 7, 7, 112)         156912    \n",
            "_________________________________________________________________\n",
            "conv2d_8 (Conv2D)            (None, 4, 4, 224)         627424    \n",
            "_________________________________________________________________\n",
            "flatten_1 (Flatten)          (None, 3584)              0         \n",
            "_________________________________________________________________\n",
            "dense_6 (Dense)              (None, 112)               401520    \n",
            "_________________________________________________________________\n",
            "dense_7 (Dense)              (None, 1)                 113       \n",
            "=================================================================\n",
            "Total params: 1,187,425\n",
            "Trainable params: 1,187,425\n",
            "Non-trainable params: 0\n",
            "_________________________________________________________________\n"
          ],
          "name": "stdout"
        }
      ]
    },
    {
      "cell_type": "code",
      "metadata": {
        "id": "ocOZyaSDWQ3H",
        "colab_type": "code",
        "colab": {
          "base_uri": "https://localhost:8080/",
          "height": 255
        },
        "outputId": "946ede24-35c3-4d71-f021-f23e1142402c"
      },
      "source": [
        "#We first make discriminator non-trainable so it just classify images simply and do not learn anything from the data fed to it.\n",
        "#And we set the complete loss-fnunction and optimizer. Advanced architectures uses various kind of loss so to make it more \n",
        "# efficient.\n",
        "\n",
        "d.trainable = False\n",
        "inputs = Input(shape=(z_dim, ))\n",
        "hidden = g(inputs)\n",
        "output = d(hidden)\n",
        "gan = Model(inputs, output)\n",
        "gan.compile(loss='binary_crossentropy', optimizer=adam, metrics=['accuracy'])\n",
        "gan.summary()"
      ],
      "execution_count": 33,
      "outputs": [
        {
          "output_type": "stream",
          "text": [
            "Model: \"functional_5\"\n",
            "_________________________________________________________________\n",
            "Layer (type)                 Output Shape              Param #   \n",
            "=================================================================\n",
            "input_5 (InputLayer)         [(None, 100)]             0         \n",
            "_________________________________________________________________\n",
            "sequential_2 (Sequential)    (None, 28, 28, 1)         713221    \n",
            "_________________________________________________________________\n",
            "sequential_3 (Sequential)    (None, 1)                 1187425   \n",
            "=================================================================\n",
            "Total params: 1,900,646\n",
            "Trainable params: 712,883\n",
            "Non-trainable params: 1,187,763\n",
            "_________________________________________________________________\n"
          ],
          "name": "stdout"
        }
      ]
    },
    {
      "cell_type": "code",
      "metadata": {
        "deletable": true,
        "editable": true,
        "id": "UpQeN9CQONtg",
        "colab_type": "code",
        "colab": {}
      },
      "source": [
        "#This is train function which trains the whole architecture in one. \n",
        "#First an random noise is generated and is fed to generator \"g\" which generates some noisy image from it as the generator is not yet trained.\n",
        "#The generated noisy image is then concatenated with real images and all of them are fed into discriminator. Discriminator is tricked to believe that they\n",
        "#real images as we give target as \"0\". It then learns somehting about the real images. \n",
        "#Then comes the generator's training. We simply generate some more random noise, set target as \"1\" so to make the \"GAN\" believe that they are real images.\n",
        "#Just then we make discriminator non-trainable and feed this data into whole \"GAN\" architecture. Thus the generator learns when the loop completes and \n",
        "# the gradients flow back assuming that all of the images given were real images.\n"
      ],
      "execution_count": 13,
      "outputs": []
    },
    {
      "cell_type": "code",
      "metadata": {
        "deletable": true,
        "editable": true,
        "id": "rGhRqJXZONtn",
        "colab_type": "code",
        "colab": {}
      },
      "source": [
        "# Set up a vector (dict) to store the losses\n",
        "samples = []\n",
        "\n",
        "def train(epochs=1, plt_frq=1, BATCH_SIZE=128):\n",
        "    batchCount = int(X_train.shape[0] / BATCH_SIZE)\n",
        "    print('Epochs:', epochs)\n",
        "    print('Batch size:', BATCH_SIZE)\n",
        "    print('Batches per epoch:', batchCount)\n",
        "    \n",
        "    for e in tqdm_notebook(range(1, epochs+1)):\n",
        "        if e == 1 or e%plt_frq == 0:\n",
        "            print('-'*15, 'Epoch %d' % e, '-'*15)\n",
        "        for _ in range(batchCount):  # tqdm_notebook(range(batchCount), leave=False):\n",
        "            # Create a batch by drawing random index numbers from the training set\n",
        "            image_batch = X_train[np.random.randint(0, X_train.shape[0], size=BATCH_SIZE)]\n",
        "            image_batch = image_batch.reshape(image_batch.shape[0], image_batch.shape[1], image_batch.shape[2], 1)\n",
        "            # Create noise vectors for the generator\n",
        "            noise = np.random.normal(0, 1, size=(BATCH_SIZE, z_dim))\n",
        "            \n",
        "            # Generate the images from the noise\n",
        "            generated_images = g.predict(noise)\n",
        "            samples.append(generated_images)\n",
        "            X = np.concatenate((image_batch, generated_images))\n",
        "            # Create labels\n",
        "            y = np.zeros(2*BATCH_SIZE)\n",
        "            y[:BATCH_SIZE] = 0.9  # One-sided label smoothing\n",
        "\n",
        "            # Train discriminator on generated images\n",
        "            d.trainable = True\n",
        "            d_loss = d.train_on_batch(X, y)\n",
        "\n",
        "            # Train generator\n",
        "            noise = np.random.normal(0, 1, size=(BATCH_SIZE, z_dim))\n",
        "            y2 = np.ones(BATCH_SIZE)\n",
        "            d.trainable = False\n",
        "            g_loss = gan.train_on_batch(noise, y2)\n"
      ],
      "execution_count": 18,
      "outputs": []
    },
    {
      "cell_type": "code",
      "metadata": {
        "deletable": true,
        "editable": true,
        "id": "7xDXH3RbONty",
        "colab_type": "code",
        "colab": {
          "base_uri": "https://localhost:8080/",
          "height": 355,
          "referenced_widgets": [
            "1df5f1af2d7e4c938febaacb42c9f332",
            "2412edff03d443619f0da089f5c49c80",
            "eaaee9f16e3445d8b52ce2bf305b617b",
            "f15fa7f1164f4e79aab27e96a1b62f4b",
            "4b0cf78d871b419ea1b13b09367bcb1c",
            "574bd971cf0d495bb268c8aa63dbcccb",
            "b40fc0da6a194a31ace058c49edb8e48",
            "60f8e285cb284d47bdc7b9096bcd4095"
          ]
        },
        "outputId": "b495c787-5534-4d83-ea26-60ed0055ca9d"
      },
      "source": [
        "#Training 50 epochs.\n",
        "train(epochs=200, plt_frq=20, BATCH_SIZE=128)"
      ],
      "execution_count": 21,
      "outputs": [
        {
          "output_type": "stream",
          "text": [
            "Epochs: 200\n",
            "Batch size: 128\n",
            "Batches per epoch: 46\n"
          ],
          "name": "stdout"
        },
        {
          "output_type": "stream",
          "text": [
            "/usr/local/lib/python3.6/dist-packages/ipykernel_launcher.py:10: TqdmDeprecationWarning: This function will be removed in tqdm==5.0.0\n",
            "Please use `tqdm.notebook.tqdm` instead of `tqdm.tqdm_notebook`\n",
            "  # Remove the CWD from sys.path while we load stuff.\n"
          ],
          "name": "stderr"
        },
        {
          "output_type": "display_data",
          "data": {
            "application/vnd.jupyter.widget-view+json": {
              "model_id": "1df5f1af2d7e4c938febaacb42c9f332",
              "version_minor": 0,
              "version_major": 2
            },
            "text/plain": [
              "HBox(children=(FloatProgress(value=0.0, max=200.0), HTML(value='')))"
            ]
          },
          "metadata": {
            "tags": []
          }
        },
        {
          "output_type": "stream",
          "text": [
            "--------------- Epoch 1 ---------------\n",
            "--------------- Epoch 20 ---------------\n",
            "--------------- Epoch 40 ---------------\n",
            "--------------- Epoch 60 ---------------\n",
            "--------------- Epoch 80 ---------------\n",
            "--------------- Epoch 100 ---------------\n",
            "--------------- Epoch 120 ---------------\n",
            "--------------- Epoch 140 ---------------\n",
            "--------------- Epoch 160 ---------------\n",
            "--------------- Epoch 180 ---------------\n",
            "--------------- Epoch 200 ---------------\n",
            "\n"
          ],
          "name": "stdout"
        }
      ]
    },
    {
      "cell_type": "code",
      "metadata": {
        "id": "azU6du2TONt5",
        "colab_type": "code",
        "colab": {}
      },
      "source": [
        ""
      ],
      "execution_count": 34,
      "outputs": []
    },
    {
      "cell_type": "code",
      "metadata": {
        "id": "1FzCMcJtONuB",
        "colab_type": "code",
        "colab": {}
      },
      "source": [
        ""
      ],
      "execution_count": 33,
      "outputs": []
    },
    {
      "cell_type": "code",
      "metadata": {
        "id": "P2n-u34yTRzS",
        "colab_type": "code",
        "colab": {}
      },
      "source": [
        "#generating random noise and then feeding it to generator which generates some image/array from it ."
      ],
      "execution_count": 33,
      "outputs": []
    },
    {
      "cell_type": "code",
      "metadata": {
        "id": "vCGq6HXsTWAp",
        "colab_type": "code",
        "colab": {}
      },
      "source": [
        "  n_ex=10\n",
        "  dim=(1, 10)\n",
        "  noise = np.random.normal(0, 1, size=(n_ex, z_dim))\n",
        "  generated_images = g.predict(noise)\n",
        "  generated_images = generated_images.reshape(generated_images.shape[0], 28, 28)"
      ],
      "execution_count": 29,
      "outputs": []
    },
    {
      "cell_type": "code",
      "metadata": {
        "id": "f1PrHg6KTY6Q",
        "colab_type": "code",
        "colab": {
          "base_uri": "https://localhost:8080/",
          "height": 282
        },
        "outputId": "b618e743-99fe-4b42-c372-2fbbf49f983d"
      },
      "source": [
        "plt.imshow(generated_images[0, :, :], interpolation='nearest', cmap='gray_r')"
      ],
      "execution_count": 30,
      "outputs": [
        {
          "output_type": "execute_result",
          "data": {
            "text/plain": [
              "<matplotlib.image.AxesImage at 0x7f37ba574828>"
            ]
          },
          "metadata": {
            "tags": []
          },
          "execution_count": 30
        },
        {
          "output_type": "display_data",
          "data": {
            "image/png": "[encoded data removed]",
            "text/plain": [
              "<Figure size 432x288 with 1 Axes>"
            ]
          },
          "metadata": {
            "tags": [],
            "needs_background": "light"
          }
        }
      ]
    },
    {
      "cell_type": "code",
      "metadata": {
        "id": "M21hR6ptUGMk",
        "colab_type": "code",
        "colab": {
          "base_uri": "https://localhost:8080/",
          "height": 282
        },
        "outputId": "c8c238e9-a5aa-4a60-9806-f1781245209a"
      },
      "source": [
        "plt.imshow(generated_images[1, :, :], interpolation='nearest', cmap='gray_r')"
      ],
      "execution_count": 31,
      "outputs": [
        {
          "output_type": "execute_result",
          "data": {
            "text/plain": [
              "<matplotlib.image.AxesImage at 0x7f37ba62c7f0>"
            ]
          },
          "metadata": {
            "tags": []
          },
          "execution_count": 31
        },
        {
          "output_type": "display_data",
          "data": {
            "image/png": "[encoded data removed]",
            "text/plain": [
              "<Figure size 432x288 with 1 Axes>"
            ]
          },
          "metadata": {
            "tags": [],
            "needs_background": "light"
          }
        }
      ]
    },
    {
      "cell_type": "code",
      "metadata": {
        "id": "ciMyrVzmUJWG",
        "colab_type": "code",
        "colab": {}
      },
      "source": [
        ""
      ],
      "execution_count": 31,
      "outputs": []
    }
  ]
}